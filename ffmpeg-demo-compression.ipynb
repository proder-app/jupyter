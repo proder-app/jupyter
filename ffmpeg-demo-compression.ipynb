{
 "cells": [
  {
   "cell_type": "markdown",
   "metadata": {},
   "source": [
    "# FFmpeg demo: video encoding"
   ]
  },
  {
   "cell_type": "code",
   "execution_count": null,
   "metadata": {},
   "outputs": [],
   "source": [
    "# Download a static FFmpeg build and add it to PATH.\n",
    "%run 'util/load-ffmpeg.ipynb'\n",
    "print('Done!')"
   ]
  },
  {
   "cell_type": "code",
   "execution_count": null,
   "metadata": {
    "scrolled": false
   },
   "outputs": [],
   "source": [
    "# [optional] Print input video information. You can upload another video file and change the file name below.\n",
    "!ffprobe -hide_banner input.mp4\n",
    "print('Done!')"
   ]
  },
  {
   "cell_type": "code",
   "execution_count": null,
   "metadata": {
    "scrolled": false
   },
   "outputs": [],
   "source": [
    "# Compress input.mp4 to a target bitrate and save as output.mp4. \n",
    "# Change the command line flags as you need for different encoding settings.\n",
    "\n",
    "!ffmpeg -hide_banner -i input.mp4 -b:v 200k -y output.mp4\n",
    "print('Done!')"
   ]
  },
  {
   "cell_type": "code",
   "execution_count": null,
   "metadata": {},
   "outputs": [],
   "source": [
    "# Display both the source (top) video and encoded (bottom) video.\n",
    "# Sometimes the two players get out of sync. Press \"sync\" to mitigate that.\n",
    "\n",
    "%run util/play-video.ipynb --ref input.mp4 --tar output.mp4\n",
    "HTML(html)"
   ]
  },
  {
   "cell_type": "code",
   "execution_count": null,
   "metadata": {},
   "outputs": [],
   "source": [
    "# Calculate PSNR between input.mp4 and output.mp4\n",
    "!ffmpeg -hide_banner -i output.mp4 -i input.mp4 -lavfi psnr -f null - 2>&1 | grep \"Parsed_psnr_0\"\n",
    "\n",
    "# Calculate SSIM between input.mp4 and output.mp4\n",
    "!ffmpeg -hide_banner -i output.mp4 -i input.mp4 -lavfi ssim -f null - 2>&1 | grep \"Parsed_ssim_0\"\n",
    "\n",
    "# Calculate VMAF between input.mp4 (ref) and output.mp4 (target).\n",
    "!ffmpeg -hide_banner -i output.mp4 -i input.mp4 \\\n",
    "  -lavfi \"libvmaf=model_path={ffmdir[0]}/model/vmaf_v0.6.1.pkl\" -f null - 2>&1 | grep 'VMAF' \\\n",
    "  || echo 'VMAF calculation failed!'\n",
    "\n",
    "print('Done!')"
   ]
  },
  {
   "cell_type": "code",
   "execution_count": null,
   "metadata": {},
   "outputs": [],
   "source": []
  }
 ],
 "metadata": {
  "kernelspec": {
   "display_name": "Python 3",
   "language": "python",
   "name": "python3"
  },
  "language_info": {
   "codemirror_mode": {
    "name": "ipython",
    "version": 3
   },
   "file_extension": ".py",
   "mimetype": "text/x-python",
   "name": "python",
   "nbconvert_exporter": "python",
   "pygments_lexer": "ipython3",
   "version": "3.7.7"
  }
 },
 "nbformat": 4,
 "nbformat_minor": 4
}

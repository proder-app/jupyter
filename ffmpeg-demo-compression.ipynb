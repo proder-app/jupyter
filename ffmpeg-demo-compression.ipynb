{
 "cells": [
  {
   "cell_type": "markdown",
   "metadata": {},
   "source": [
    "# FFmpeg demo: video encoding"
   ]
  },
  {
   "cell_type": "code",
   "execution_count": 4,
   "metadata": {},
   "outputs": [
    {
     "name": "stdout",
     "output_type": "stream",
     "text": [
      "/usr/local/bin/ffmpeg\n",
      "Done!\n"
     ]
    }
   ],
   "source": [
    "# Download a static FFmpeg build and add it to PATH.\n",
    "%run 'util/load-ffmpeg.ipynb'\n",
    "print('Done!')"
   ]
  },
  {
   "cell_type": "code",
   "execution_count": 5,
   "metadata": {
    "scrolled": false
   },
   "outputs": [
    {
     "name": "stdout",
     "output_type": "stream",
     "text": [
      "Input #0, mov,mp4,m4a,3gp,3g2,mj2, from 'input.mp4':\n",
      "  Metadata:\n",
      "    major_brand     : isom\n",
      "    minor_version   : 512\n",
      "    compatible_brands: isomiso2avc1mp41\n",
      "    encoder         : Lavf58.29.100\n",
      "  Duration: 00:00:10.02, start: 0.000000, bitrate: 2018 kb/s\n",
      "    Stream #0:0(und): Video: h264 (High) (avc1 / 0x31637661), yuv420p, 864x360 [SAR 1:1 DAR 12:5], 1885 kb/s, 24 fps, 24 tbr, 12288 tbn, 48 tbc (default)\n",
      "    Metadata:\n",
      "      handler_name    : VideoHandler\n",
      "    Stream #0:1(und): Audio: aac (LC) (mp4a / 0x6134706D), 48000 Hz, stereo, fltp, 128 kb/s (default)\n",
      "    Metadata:\n",
      "      handler_name    : SoundHandler\n",
      "Done!\n"
     ]
    }
   ],
   "source": [
    "# [optional] Print input video information. You can upload another video file and change the file name below.\n",
    "!ffprobe -hide_banner input.mp4\n",
    "print('Done!')"
   ]
  },
  {
   "cell_type": "code",
   "execution_count": 6,
   "metadata": {
    "scrolled": false
   },
   "outputs": [
    {
     "name": "stdout",
     "output_type": "stream",
     "text": [
      "Input #0, mov,mp4,m4a,3gp,3g2,mj2, from 'input.mp4':\n",
      "  Metadata:\n",
      "    major_brand     : isom\n",
      "    minor_version   : 512\n",
      "    compatible_brands: isomiso2avc1mp41\n",
      "    encoder         : Lavf58.29.100\n",
      "  Duration: 00:00:10.02, start: 0.000000, bitrate: 2018 kb/s\n",
      "    Stream #0:0(und): Video: h264 (High) (avc1 / 0x31637661), yuv420p, 864x360 [SAR 1:1 DAR 12:5], 1885 kb/s, 24 fps, 24 tbr, 12288 tbn, 48 tbc (default)\n",
      "    Metadata:\n",
      "      handler_name    : VideoHandler\n",
      "    Stream #0:1(und): Audio: aac (LC) (mp4a / 0x6134706D), 48000 Hz, stereo, fltp, 128 kb/s (default)\n",
      "    Metadata:\n",
      "      handler_name    : SoundHandler\n",
      "Stream mapping:\n",
      "  Stream #0:0 -> #0:0 (h264 (native) -> h264 (libx264))\n",
      "  Stream #0:1 -> #0:1 (aac (native) -> aac (native))\n",
      "Press [q] to stop, [?] for help\n",
      "\u001b[1;36m[libx264 @ 0x7f8de1815000] \u001b[0musing SAR=1/1\n",
      "\u001b[1;36m[libx264 @ 0x7f8de1815000] \u001b[0musing cpu capabilities: MMX2 SSE2Fast SSSE3 SSE4.2 AVX FMA3 BMI2 AVX2\n",
      "\u001b[1;36m[libx264 @ 0x7f8de1815000] \u001b[0mprofile High, level 3.0\n",
      "\u001b[1;36m[libx264 @ 0x7f8de1815000] \u001b[0m264 - core 155 r2917 0a84d98 - H.264/MPEG-4 AVC codec - Copyleft 2003-2018 - http://www.videolan.org/x264.html - options: cabac=1 ref=3 deblock=1:0:0 analyse=0x3:0x113 me=hex subme=7 psy=1 psy_rd=1.00:0.00 mixed_ref=1 me_range=16 chroma_me=1 trellis=1 8x8dct=1 cqm=0 deadzone=21,11 fast_pskip=1 chroma_qp_offset=-2 threads=11 lookahead_threads=1 sliced_threads=0 nr=0 decimate=1 interlaced=0 bluray_compat=0 constrained_intra=0 bframes=3 b_pyramid=2 b_adapt=1 b_bias=0 direct=1 weightb=1 open_gop=0 weightp=2 keyint=250 keyint_min=24 scenecut=40 intra_refresh=0 rc_lookahead=40 rc=abr mbtree=1 bitrate=200 ratetol=1.0 qcomp=0.60 qpmin=0 qpmax=69 qpstep=4 ip_ratio=1.40 aq=1:1.00\n",
      "Output #0, mp4, to 'output.mp4':\n",
      "  Metadata:\n",
      "    major_brand     : isom\n",
      "    minor_version   : 512\n",
      "    compatible_brands: isomiso2avc1mp41\n",
      "    encoder         : Lavf58.29.100\n",
      "    Stream #0:0(und): Video: h264 (libx264) (avc1 / 0x31637661), yuv420p, 864x360 [SAR 1:1 DAR 12:5], q=-1--1, 200 kb/s, 24 fps, 12288 tbn, 24 tbc (default)\n",
      "    Metadata:\n",
      "      handler_name    : VideoHandler\n",
      "      encoder         : Lavc58.54.100 libx264\n",
      "    Side data:\n",
      "      cpb: bitrate max/min/avg: 0/0/200000 buffer size: 0 vbv_delay: -1\n",
      "    Stream #0:1(und): Audio: aac (LC) (mp4a / 0x6134706D), 48000 Hz, stereo, fltp, 128 kb/s (default)\n",
      "    Metadata:\n",
      "      handler_name    : SoundHandler\n",
      "      encoder         : Lavc58.54.100 aac\n",
      "frame=  240 fps=194 q=-1.0 Lsize=     412kB time=00:00:10.00 bitrate= 337.0kbits/s speed=8.08x    \n",
      "video:243kB audio:158kB subtitle:0kB other streams:0kB global headers:0kB muxing overhead: 2.710856%\n",
      "\u001b[1;36m[libx264 @ 0x7f8de1815000] \u001b[0mframe I:3     Avg QP:31.46  size: 20306\n",
      "\u001b[1;36m[libx264 @ 0x7f8de1815000] \u001b[0mframe P:67    Avg QP:33.91  size:  1996\n",
      "\u001b[1;36m[libx264 @ 0x7f8de1815000] \u001b[0mframe B:170   Avg QP:38.80  size:   316\n",
      "\u001b[1;36m[libx264 @ 0x7f8de1815000] \u001b[0mconsecutive B-frames:  2.5%  8.3%  2.5% 86.7%\n",
      "\u001b[1;36m[libx264 @ 0x7f8de1815000] \u001b[0mmb I  I16..4: 11.7% 63.1% 25.2%\n",
      "\u001b[1;36m[libx264 @ 0x7f8de1815000] \u001b[0mmb P  I16..4:  0.5%  1.6%  0.2%  P16..4: 28.5%  6.3%  3.8%  0.0%  0.0%    skip:59.0%\n",
      "\u001b[1;36m[libx264 @ 0x7f8de1815000] \u001b[0mmb B  I16..4:  0.0%  0.0%  0.0%  B16..8: 27.3%  0.3%  0.0%  direct: 0.0%  skip:72.3%  L0:41.5% L1:58.2% BI: 0.3%\n",
      "\u001b[1;36m[libx264 @ 0x7f8de1815000] \u001b[0mfinal ratefactor: 33.26\n",
      "\u001b[1;36m[libx264 @ 0x7f8de1815000] \u001b[0m8x8 transform intra:64.4% inter:72.8%\n",
      "\u001b[1;36m[libx264 @ 0x7f8de1815000] \u001b[0mcoded y,uvDC,uvAC intra: 57.3% 56.4% 21.6% inter: 2.7% 1.9% 0.0%\n",
      "\u001b[1;36m[libx264 @ 0x7f8de1815000] \u001b[0mi16 v,h,dc,p: 56% 14%  8% 22%\n",
      "\u001b[1;36m[libx264 @ 0x7f8de1815000] \u001b[0mi8 v,h,dc,ddl,ddr,vr,hd,vl,hu: 32% 13% 19%  5%  5%  8%  5%  7%  6%\n",
      "\u001b[1;36m[libx264 @ 0x7f8de1815000] \u001b[0mi4 v,h,dc,ddl,ddr,vr,hd,vl,hu: 29% 19% 13%  6%  6%  6%  7%  6%  7%\n",
      "\u001b[1;36m[libx264 @ 0x7f8de1815000] \u001b[0mi8c dc,h,v,p: 62% 12% 24%  3%\n",
      "\u001b[1;36m[libx264 @ 0x7f8de1815000] \u001b[0mWeighted P-Frames: Y:0.0% UV:0.0%\n",
      "\u001b[1;36m[libx264 @ 0x7f8de1815000] \u001b[0mref P L0: 63.8% 20.5% 11.0%  4.6%\n",
      "\u001b[1;36m[libx264 @ 0x7f8de1815000] \u001b[0mref B L0: 95.1%  3.9%  1.0%\n",
      "\u001b[1;36m[libx264 @ 0x7f8de1815000] \u001b[0mref B L1: 97.2%  2.8%\n",
      "\u001b[1;36m[libx264 @ 0x7f8de1815000] \u001b[0mkb/s:198.66\n",
      "\u001b[1;36m[aac @ 0x7f8de1816800] \u001b[0mQavg: 173.038\n",
      "Done!\n"
     ]
    }
   ],
   "source": [
    "# Compress input.mp4 to a target bitrate and save as output.mp4. \n",
    "# Change the command line flags as you need for different encoding settings.\n",
    "\n",
    "!ffmpeg -hide_banner -i input.mp4 -b:v 200k -y output.mp4\n",
    "print('Done!')"
   ]
  },
  {
   "cell_type": "code",
   "execution_count": 7,
   "metadata": {},
   "outputs": [
    {
     "data": {
      "text/html": [
       "\n",
       "<html>\n",
       "<style>\n",
       ".controls {\n",
       "    margin: 0;\n",
       "    position: absolute;\n",
       "    top: 50%;\n",
       "    left: 100%;\n",
       "    -ms-transform: translate(-100%, -50%);\n",
       "    transform: translate(-100%, -50%);\n",
       "}\n",
       "button {\n",
       "    display: block;\n",
       "    padding: 5px 16px;\n",
       "    border-radius: 3px;\n",
       "    cursor: pointer;\n",
       "    background-color: white;\n",
       "    border-color: navy;\n",
       "    width: 100px;\n",
       "}\n",
       "</style>\n",
       "\n",
       "<div>\n",
       "<video muted loop controls id='video-ref'>\n",
       "  <source src=\"input.mp4\" type=\"video/mp4\">\n",
       "</video>\n",
       "</div>\n",
       "<div class='controls'>\n",
       "  <button id='button-play'>Pause</button>\n",
       "  <button id='button-sync'>Sync</button>\n",
       "</div>\n",
       "<div>\n",
       "<video muted loop controls id='video-target'>\n",
       "  <source src=\"output.mp4\" type=\"video/mp4\">\n",
       "</video>\n",
       "</div>\n",
       "\n",
       "<script>\n",
       "    var v1 = document.querySelector('#video-ref');\n",
       "    var v2 = document.querySelector('#video-target');\n",
       "    function seek(sec) {\n",
       "      v1.currentTime = sec;\n",
       "      v2.currentTime = sec;\n",
       "    }\n",
       "    document.querySelector('#button-sync').addEventListener('click', (e)=>{\n",
       "        seek(v1.currentTime);\n",
       "    });\n",
       "    document.querySelector('#button-play').addEventListener('click', (e)=>{\n",
       "        if (e.target.textContent == 'Pause') {\n",
       "            e.target.textContent = 'Resume';\n",
       "            v1.pause();\n",
       "            v2.pause();\n",
       "        } else {\n",
       "            e.target.textContent = 'Pause';\n",
       "            v1.play();\n",
       "            v2.play();\n",
       "        }\n",
       "    });\n",
       "    v1.play();\n",
       "    v2.play();\n",
       "</script>\n",
       "</html>"
      ],
      "text/plain": [
       "<IPython.core.display.HTML object>"
      ]
     },
     "execution_count": 7,
     "metadata": {},
     "output_type": "execute_result"
    }
   ],
   "source": [
    "# Display both the source (top) video and encoded (bottom) video.\n",
    "# Sometimes the two players get out of sync. Press \"sync\" to mitigate that.\n",
    "\n",
    "%run util/play-video.ipynb --ref input.mp4 --tar output.mp4\n",
    "HTML(html)"
   ]
  },
  {
   "cell_type": "code",
   "execution_count": 11,
   "metadata": {},
   "outputs": [
    {
     "name": "stdout",
     "output_type": "stream",
     "text": [
      "[Parsed_psnr_0 @ 0x7fd099600340] PSNR y:33.079084 u:40.324532 v:42.078959 average:34.511333 min:32.170013 max:38.685101\n",
      "[Parsed_ssim_0 @ 0x7fc62fd37680] SSIM Y:0.921991 (11.078568) U:0.939237 (12.163643) V:0.958136 (13.781555) All:0.930890 (11.604575)\n",
      "VMAF calculation failed!\n"
     ]
    }
   ],
   "source": [
    "# Calculate PSNR between input.mp4 and output.mp4\n",
    "!ffmpeg -hide_banner -i output.mp4 -i input.mp4 -lavfi psnr -f null - 2>&1 | grep \"Parsed_psnr_0\"\n",
    "\n",
    "# Calculate SSIM between input.mp4 and output.mp4\n",
    "!ffmpeg -hide_banner -i output.mp4 -i input.mp4 -lavfi ssim -f null - 2>&1 | grep \"Parsed_ssim_0\"\n",
    "\n",
    "# Calculate VMAF between input.mp4 (ref) and output.mp4 (target).\n",
    "!ffmpeg -hide_banner -i output.mp4 -i input.mp4 \\\n",
    "  -lavfi \"libvmaf=model_path={ffmdir[0]}/model/vmaf_v0.6.1.pkl\" -f null - 2>&1 | grep 'VMAF' \\\n",
    "  || echo 'VMAF calculation failed!'"
   ]
  },
  {
   "cell_type": "code",
   "execution_count": null,
   "metadata": {},
   "outputs": [],
   "source": []
  }
 ],
 "metadata": {
  "kernelspec": {
   "display_name": "Python 3",
   "language": "python",
   "name": "python3"
  },
  "language_info": {
   "codemirror_mode": {
    "name": "ipython",
    "version": 3
   },
   "file_extension": ".py",
   "mimetype": "text/x-python",
   "name": "python",
   "nbconvert_exporter": "python",
   "pygments_lexer": "ipython3",
   "version": "3.7.7"
  }
 },
 "nbformat": 4,
 "nbformat_minor": 4
}

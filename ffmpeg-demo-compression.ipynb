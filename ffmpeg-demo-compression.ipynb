{
 "cells": [
  {
   "cell_type": "markdown",
   "metadata": {},
   "source": [
    "# FFmpeg example: encoding"
   ]
  },
  {
   "cell_type": "code",
   "execution_count": 1,
   "metadata": {},
   "outputs": [
    {
     "name": "stdout",
     "output_type": "stream",
     "text": [
      "env: PATH=/usr/bin:/bin:/usr/sbin:/sbin:/usr/local/bin:./ffmpeg-4.2.2-amd64-static\n",
      "/usr/local/bin/ffmpeg\r\n"
     ]
    }
   ],
   "source": [
    "path = %env PATH\n",
    "path = path + \":./ffmpeg-4.2.2-amd64-static\"\n",
    "%env PATH $path\n",
    "\n",
    "!which ffmpeg"
   ]
  },
  {
   "cell_type": "code",
   "execution_count": 38,
   "metadata": {
    "scrolled": true
   },
   "outputs": [
    {
     "name": "stdout",
     "output_type": "stream",
     "text": [
      "ffprobe version 4.2.2 Copyright (c) 2007-2019 the FFmpeg developers\r\n",
      "  built with Apple clang version 11.0.0 (clang-1100.0.33.17)\r\n",
      "  configuration: --prefix=/usr/local/Cellar/ffmpeg/4.2.2_3 --enable-shared --enable-pthreads --enable-version3 --enable-avresample --cc=clang --host-cflags=-fno-stack-check --host-ldflags= --enable-ffplay --enable-gnutls --enable-gpl --enable-libaom --enable-libbluray --enable-libmp3lame --enable-libopus --enable-librubberband --enable-libsnappy --enable-libsrt --enable-libtesseract --enable-libtheora --enable-libvidstab --enable-libvorbis --enable-libvpx --enable-libwebp --enable-libx264 --enable-libx265 --enable-libxvid --enable-lzma --enable-libfontconfig --enable-libfreetype --enable-frei0r --enable-libass --enable-libopencore-amrnb --enable-libopencore-amrwb --enable-libopenjpeg --enable-librtmp --enable-libspeex --enable-libsoxr --enable-videotoolbox --disable-libjack --disable-indev=jack\r\n",
      "  libavutil      56. 31.100 / 56. 31.100\r\n",
      "  libavcodec     58. 54.100 / 58. 54.100\r\n",
      "  libavformat    58. 29.100 / 58. 29.100\r\n",
      "  libavdevice    58.  8.100 / 58.  8.100\r\n",
      "  libavfilter     7. 57.100 /  7. 57.100\r\n",
      "  libavresample   4.  0.  0 /  4.  0.  0\r\n",
      "  libswscale      5.  5.100 /  5.  5.100\r\n",
      "  libswresample   3.  5.100 /  3.  5.100\r\n",
      "  libpostproc    55.  5.100 / 55.  5.100\r\n",
      "Input #0, mov,mp4,m4a,3gp,3g2,mj2, from 'input.mp4':\r\n",
      "  Metadata:\r\n",
      "    major_brand     : isom\r\n",
      "    minor_version   : 512\r\n",
      "    compatible_brands: isomiso2avc1mp41\r\n",
      "    encoder         : Lavf58.29.100\r\n",
      "  Duration: 00:00:10.02, start: 0.000000, bitrate: 2018 kb/s\r\n",
      "    Stream #0:0(und): Video: h264 (High) (avc1 / 0x31637661), yuv420p, 864x360 [SAR 1:1 DAR 12:5], 1885 kb/s, 24 fps, 24 tbr, 12288 tbn, 48 tbc (default)\r\n",
      "    Metadata:\r\n",
      "      handler_name    : VideoHandler\r\n",
      "    Stream #0:1(und): Audio: aac (LC) (mp4a / 0x6134706D), 48000 Hz, stereo, fltp, 128 kb/s (default)\r\n",
      "    Metadata:\r\n",
      "      handler_name    : SoundHandler\r\n"
     ]
    }
   ],
   "source": [
    "# Print input video information.\n",
    "!ffprobe input.mp4"
   ]
  },
  {
   "cell_type": "code",
   "execution_count": 39,
   "metadata": {},
   "outputs": [
    {
     "name": "stdout",
     "output_type": "stream",
     "text": [
      "Input #0, mov,mp4,m4a,3gp,3g2,mj2, from 'input.mp4':\n",
      "  Metadata:\n",
      "    major_brand     : isom\n",
      "    minor_version   : 512\n",
      "    compatible_brands: isomiso2avc1mp41\n",
      "    encoder         : Lavf58.29.100\n",
      "  Duration: 00:00:10.02, start: 0.000000, bitrate: 2018 kb/s\n",
      "    Stream #0:0(und): Video: h264 (High) (avc1 / 0x31637661), yuv420p, 864x360 [SAR 1:1 DAR 12:5], 1885 kb/s, 24 fps, 24 tbr, 12288 tbn, 48 tbc (default)\n",
      "    Metadata:\n",
      "      handler_name    : VideoHandler\n",
      "    Stream #0:1(und): Audio: aac (LC) (mp4a / 0x6134706D), 48000 Hz, stereo, fltp, 128 kb/s (default)\n",
      "    Metadata:\n",
      "      handler_name    : SoundHandler\n",
      "Stream mapping:\n",
      "  Stream #0:0 -> #0:0 (h264 (native) -> h264 (libx264))\n",
      "  Stream #0:1 -> #0:1 (aac (native) -> aac (native))\n",
      "Press [q] to stop, [?] for help\n",
      "\u001b[1;36m[libx264 @ 0x7ff3ce00ac00] \u001b[0musing SAR=1/1\n",
      "\u001b[1;36m[libx264 @ 0x7ff3ce00ac00] \u001b[0musing cpu capabilities: MMX2 SSE2Fast SSSE3 SSE4.2 AVX FMA3 BMI2 AVX2\n",
      "\u001b[1;36m[libx264 @ 0x7ff3ce00ac00] \u001b[0mprofile High, level 3.0\n",
      "\u001b[1;36m[libx264 @ 0x7ff3ce00ac00] \u001b[0m264 - core 155 r2917 0a84d98 - H.264/MPEG-4 AVC codec - Copyleft 2003-2018 - http://www.videolan.org/x264.html - options: cabac=1 ref=3 deblock=1:0:0 analyse=0x3:0x113 me=hex subme=7 psy=1 psy_rd=1.00:0.00 mixed_ref=1 me_range=16 chroma_me=1 trellis=1 8x8dct=1 cqm=0 deadzone=21,11 fast_pskip=1 chroma_qp_offset=-2 threads=11 lookahead_threads=1 sliced_threads=0 nr=0 decimate=1 interlaced=0 bluray_compat=0 constrained_intra=0 bframes=3 b_pyramid=2 b_adapt=1 b_bias=0 direct=1 weightb=1 open_gop=0 weightp=2 keyint=250 keyint_min=24 scenecut=40 intra_refresh=0 rc_lookahead=40 rc=abr mbtree=1 bitrate=1000 ratetol=1.0 qcomp=0.60 qpmin=0 qpmax=69 qpstep=4 ip_ratio=1.40 aq=1:1.00\n",
      "Output #0, mp4, to 'output.mp4':\n",
      "  Metadata:\n",
      "    major_brand     : isom\n",
      "    minor_version   : 512\n",
      "    compatible_brands: isomiso2avc1mp41\n",
      "    encoder         : Lavf58.29.100\n",
      "    Stream #0:0(und): Video: h264 (libx264) (avc1 / 0x31637661), yuv420p, 864x360 [SAR 1:1 DAR 12:5], q=-1--1, 1000 kb/s, 24 fps, 12288 tbn, 24 tbc (default)\n",
      "    Metadata:\n",
      "      handler_name    : VideoHandler\n",
      "      encoder         : Lavc58.54.100 libx264\n",
      "    Side data:\n",
      "      cpb: bitrate max/min/avg: 0/0/1000000 buffer size: 0 vbv_delay: -1\n",
      "    Stream #0:1(und): Audio: aac (LC) (mp4a / 0x6134706D), 48000 Hz, stereo, fltp, 128 kb/s (default)\n",
      "    Metadata:\n",
      "      handler_name    : SoundHandler\n",
      "      encoder         : Lavc58.54.100 aac\n",
      "frame=  240 fps=186 q=-1.0 Lsize=    1440kB time=00:00:10.00 bitrate=1178.7kbits/s speed=7.77x    \n",
      "video:1271kB audio:158kB subtitle:0kB other streams:0kB global headers:0kB muxing overhead: 0.760416%\n",
      "\u001b[1;36m[libx264 @ 0x7ff3ce00ac00] \u001b[0mframe I:3     Avg QP:18.67  size: 71372\n",
      "\u001b[1;36m[libx264 @ 0x7ff3ce00ac00] \u001b[0mframe P:67    Avg QP:21.19  size: 13871\n",
      "\u001b[1;36m[libx264 @ 0x7ff3ce00ac00] \u001b[0mframe B:170   Avg QP:26.73  size:   926\n",
      "\u001b[1;36m[libx264 @ 0x7ff3ce00ac00] \u001b[0mconsecutive B-frames:  2.5%  8.3%  2.5% 86.7%\n",
      "\u001b[1;36m[libx264 @ 0x7ff3ce00ac00] \u001b[0mmb I  I16..4:  3.9% 48.0% 48.1%\n",
      "\u001b[1;36m[libx264 @ 0x7ff3ce00ac00] \u001b[0mmb P  I16..4:  0.2%  2.0%  0.8%  P16..4: 36.6% 23.5% 19.0%  0.0%  0.0%    skip:17.9%\n",
      "\u001b[1;36m[libx264 @ 0x7ff3ce00ac00] \u001b[0mmb B  I16..4:  0.0%  0.0%  0.0%  B16..8: 31.6%  2.3%  0.6%  direct: 0.8%  skip:64.6%  L0:37.2% L1:49.1% BI:13.7%\n",
      "\u001b[1;36m[libx264 @ 0x7ff3ce00ac00] \u001b[0mfinal ratefactor: 21.61\n",
      "\u001b[1;36m[libx264 @ 0x7ff3ce00ac00] \u001b[0m8x8 transform intra:55.6% inter:54.2%\n",
      "\u001b[1;36m[libx264 @ 0x7ff3ce00ac00] \u001b[0mcoded y,uvDC,uvAC intra: 85.7% 89.7% 68.3% inter: 14.2% 12.8% 3.0%\n",
      "\u001b[1;36m[libx264 @ 0x7ff3ce00ac00] \u001b[0mi16 v,h,dc,p: 34% 12% 10% 43%\n",
      "\u001b[1;36m[libx264 @ 0x7ff3ce00ac00] \u001b[0mi8 v,h,dc,ddl,ddr,vr,hd,vl,hu: 36% 12% 14%  4%  6%  9%  4%  8%  6%\n",
      "\u001b[1;36m[libx264 @ 0x7ff3ce00ac00] \u001b[0mi4 v,h,dc,ddl,ddr,vr,hd,vl,hu: 31% 16% 10%  6%  7%  8%  7%  7%  8%\n",
      "\u001b[1;36m[libx264 @ 0x7ff3ce00ac00] \u001b[0mi8c dc,h,v,p: 46% 15% 31%  8%\n",
      "\u001b[1;36m[libx264 @ 0x7ff3ce00ac00] \u001b[0mWeighted P-Frames: Y:0.0% UV:0.0%\n",
      "\u001b[1;36m[libx264 @ 0x7ff3ce00ac00] \u001b[0mref P L0: 62.1% 17.7% 12.0%  8.2%\n",
      "\u001b[1;36m[libx264 @ 0x7ff3ce00ac00] \u001b[0mref B L0: 86.8%  8.5%  4.7%\n",
      "\u001b[1;36m[libx264 @ 0x7ff3ce00ac00] \u001b[0mref B L1: 94.0%  6.0%\n",
      "\u001b[1;36m[libx264 @ 0x7ff3ce00ac00] \u001b[0mkb/s:1040.76\n",
      "\u001b[1;36m[aac @ 0x7ff3ce00c400] \u001b[0mQavg: 173.038\n"
     ]
    }
   ],
   "source": [
    "# Compress input.mp4 to target bitrate 1000kbps and save as output.mp4.\n",
    "\n",
    "!ffmpeg -hide_banner -i input.mp4 -b:v 1000k -y output.mp4\n"
   ]
  },
  {
   "cell_type": "code",
   "execution_count": 2,
   "metadata": {},
   "outputs": [
    {
     "name": "stdout",
     "output_type": "stream",
     "text": [
      "Input #0, mov,mp4,m4a,3gp,3g2,mj2, from 'input.mp4':\r\n",
      "  Metadata:\r\n",
      "    major_brand     : isom\r\n",
      "    minor_version   : 512\r\n",
      "    compatible_brands: isomiso2avc1mp41\r\n",
      "    encoder         : Lavf58.29.100\r\n",
      "  Duration: 00:00:10.02, start: 0.000000, bitrate: 2018 kb/s\r\n",
      "    Stream #0:0(und): Video: h264 (High) (avc1 / 0x31637661), yuv420p, 864x360 [SAR 1:1 DAR 12:5], 1885 kb/s, 24 fps, 24 tbr, 12288 tbn, 48 tbc (default)\r\n",
      "    Metadata:\r\n",
      "      handler_name    : VideoHandler\r\n",
      "    Stream #0:1(und): Audio: aac (LC) (mp4a / 0x6134706D), 48000 Hz, stereo, fltp, 128 kb/s (default)\r\n",
      "    Metadata:\r\n",
      "      handler_name    : SoundHandler\r\n",
      "Input #1, mov,mp4,m4a,3gp,3g2,mj2, from 'output.mp4':\r\n",
      "  Metadata:\r\n",
      "    major_brand     : isom\r\n",
      "    minor_version   : 512\r\n",
      "    compatible_brands: isomiso2avc1mp41\r\n",
      "    encoder         : Lavf58.29.100\r\n",
      "  Duration: 00:00:10.03, start: 0.000000, bitrate: 1176 kb/s\r\n",
      "    Stream #1:0(und): Video: h264 (High) (avc1 / 0x31637661), yuv420p, 864x360 [SAR 1:1 DAR 12:5], 1041 kb/s, 24 fps, 24 tbr, 12288 tbn, 48 tbc (default)\r\n",
      "    Metadata:\r\n",
      "      handler_name    : VideoHandler\r\n",
      "    Stream #1:1(und): Audio: aac (LC) (mp4a / 0x6134706D), 48000 Hz, stereo, fltp, 128 kb/s (default)\r\n",
      "    Metadata:\r\n",
      "      handler_name    : SoundHandler\r\n",
      "\u001b[1;32m[AVFilterGraph @ 0x7fad0950a180] \u001b[0m\u001b[1;31mNo such filter: 'libvmaf'\r\n",
      "\u001b[0m\u001b[4;31mError initializing complex filters.\r\n",
      "\u001b[0m\u001b[4;31mInvalid argument\r\n",
      "\u001b[0m"
     ]
    }
   ],
   "source": [
    "# Calculate VMAF between input.mp4 (ref) and output.mp4 (target).\n",
    "\n",
    "!ffmpeg -hide_banner -i output.mp4 -i input.mp4 \\\n",
    "-lavfi \"libvmaf=model_path=ffmpeg-4.2.2-amd64-static/model/vmaf_v0.6.1.pkl\" -f null -"
   ]
  },
  {
   "cell_type": "code",
   "execution_count": 5,
   "metadata": {},
   "outputs": [
    {
     "name": "stdout",
     "output_type": "stream",
     "text": [
      "[Parsed_psnr_0 @ 0x7ff72257b580] PSNR y:41.397824 u:46.246450 v:47.694155 average:42.587721 min:38.395619 max:54.457783\r\n"
     ]
    }
   ],
   "source": [
    "# Calculate PSNR between input.mp4 and output.mp4\n",
    "!ffmpeg -hide_banner -i output.mp4 -i input.mp4 -lavfi psnr -f null - 2>&1 | grep \"Parsed_psnr_0\""
   ]
  },
  {
   "cell_type": "code",
   "execution_count": 7,
   "metadata": {},
   "outputs": [
    {
     "name": "stdout",
     "output_type": "stream",
     "text": [
      "Input #0, mov,mp4,m4a,3gp,3g2,mj2, from 'output.mp4':\r\n",
      "  Metadata:\r\n",
      "    major_brand     : isom\r\n",
      "    minor_version   : 512\r\n",
      "    compatible_brands: isomiso2avc1mp41\r\n",
      "    encoder         : Lavf58.29.100\r\n",
      "  Duration: 00:00:10.03, start: 0.000000, bitrate: 1176 kb/s\r\n",
      "    Stream #0:0(und): Video: h264 (High) (avc1 / 0x31637661), yuv420p, 864x360 [SAR 1:1 DAR 12:5], 1041 kb/s, 24 fps, 24 tbr, 12288 tbn, 48 tbc (default)\r\n",
      "    Metadata:\r\n",
      "      handler_name    : VideoHandler\r\n",
      "    Stream #0:1(und): Audio: aac (LC) (mp4a / 0x6134706D), 48000 Hz, stereo, fltp, 128 kb/s (default)\r\n",
      "    Metadata:\r\n",
      "      handler_name    : SoundHandler\r\n",
      "Input #1, mov,mp4,m4a,3gp,3g2,mj2, from 'input.mp4':\r\n",
      "  Metadata:\r\n",
      "    major_brand     : isom\r\n",
      "    minor_version   : 512\r\n",
      "    compatible_brands: isomiso2avc1mp41\r\n",
      "    encoder         : Lavf58.29.100\r\n",
      "  Duration: 00:00:10.02, start: 0.000000, bitrate: 2018 kb/s\r\n",
      "    Stream #1:0(und): Video: h264 (High) (avc1 / 0x31637661), yuv420p, 864x360 [SAR 1:1 DAR 12:5], 1885 kb/s, 24 fps, 24 tbr, 12288 tbn, 48 tbc (default)\r\n",
      "    Metadata:\r\n",
      "      handler_name    : VideoHandler\r\n",
      "    Stream #1:1(und): Audio: aac (LC) (mp4a / 0x6134706D), 48000 Hz, stereo, fltp, 128 kb/s (default)\r\n",
      "    Metadata:\r\n",
      "      handler_name    : SoundHandler\r\n",
      "\u001b[1;32m[AVFilterGraph @ 0x7fc251d36780] \u001b[0m\u001b[1;31mNo such filter: 'sim'\r\n",
      "\u001b[0m\u001b[4;31mError initializing complex filters.\r\n",
      "\u001b[0m\u001b[4;31mInvalid argument\r\n",
      "\u001b[0m"
     ]
    }
   ],
   "source": [
    "# Calculate SSIM between input.mp4 and output.mp4\n",
    "!ffmpeg -hide_banner -i output.mp4 -i input.mp4 -lavfi sim -f null - 2>&1 "
   ]
  }
 ],
 "metadata": {
  "kernelspec": {
   "display_name": "Python 3",
   "language": "python",
   "name": "python3"
  },
  "language_info": {
   "codemirror_mode": {
    "name": "ipython",
    "version": 3
   },
   "file_extension": ".py",
   "mimetype": "text/x-python",
   "name": "python",
   "nbconvert_exporter": "python",
   "pygments_lexer": "ipython3",
   "version": "3.7.7"
  }
 },
 "nbformat": 4,
 "nbformat_minor": 4
}

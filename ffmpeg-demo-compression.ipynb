{
 "cells": [
  {
   "cell_type": "markdown",
   "metadata": {},
   "source": [
    "# FFmpeg example: encoding"
   ]
  },
  {
   "cell_type": "code",
   "execution_count": 1,
   "metadata": {},
   "outputs": [
    {
     "name": "stdout",
     "output_type": "stream",
     "text": [
      "env: PATH=/usr/bin:/bin:/usr/sbin:/sbin:/usr/local/bin:./ffmpeg-4.2.2-amd64-static\n",
      "/usr/local/bin/ffmpeg\r\n"
     ]
    }
   ],
   "source": [
    "path = %env PATH\n",
    "path = path + \":./ffmpeg-4.2.2-amd64-static\"\n",
    "%env PATH $path\n",
    "\n",
    "!which ffmpeg"
   ]
  },
  {
   "cell_type": "code",
   "execution_count": 38,
   "metadata": {
    "scrolled": true
   },
   "outputs": [
    {
     "name": "stdout",
     "output_type": "stream",
     "text": [
      "ffprobe version 4.2.2 Copyright (c) 2007-2019 the FFmpeg developers\r\n",
      "  built with Apple clang version 11.0.0 (clang-1100.0.33.17)\r\n",
      "  configuration: --prefix=/usr/local/Cellar/ffmpeg/4.2.2_3 --enable-shared --enable-pthreads --enable-version3 --enable-avresample --cc=clang --host-cflags=-fno-stack-check --host-ldflags= --enable-ffplay --enable-gnutls --enable-gpl --enable-libaom --enable-libbluray --enable-libmp3lame --enable-libopus --enable-librubberband --enable-libsnappy --enable-libsrt --enable-libtesseract --enable-libtheora --enable-libvidstab --enable-libvorbis --enable-libvpx --enable-libwebp --enable-libx264 --enable-libx265 --enable-libxvid --enable-lzma --enable-libfontconfig --enable-libfreetype --enable-frei0r --enable-libass --enable-libopencore-amrnb --enable-libopencore-amrwb --enable-libopenjpeg --enable-librtmp --enable-libspeex --enable-libsoxr --enable-videotoolbox --disable-libjack --disable-indev=jack\r\n",
      "  libavutil      56. 31.100 / 56. 31.100\r\n",
      "  libavcodec     58. 54.100 / 58. 54.100\r\n",
      "  libavformat    58. 29.100 / 58. 29.100\r\n",
      "  libavdevice    58.  8.100 / 58.  8.100\r\n",
      "  libavfilter     7. 57.100 /  7. 57.100\r\n",
      "  libavresample   4.  0.  0 /  4.  0.  0\r\n",
      "  libswscale      5.  5.100 /  5.  5.100\r\n",
      "  libswresample   3.  5.100 /  3.  5.100\r\n",
      "  libpostproc    55.  5.100 / 55.  5.100\r\n",
      "Input #0, mov,mp4,m4a,3gp,3g2,mj2, from 'input.mp4':\r\n",
      "  Metadata:\r\n",
      "    major_brand     : isom\r\n",
      "    minor_version   : 512\r\n",
      "    compatible_brands: isomiso2avc1mp41\r\n",
      "    encoder         : Lavf58.29.100\r\n",
      "  Duration: 00:00:10.02, start: 0.000000, bitrate: 2018 kb/s\r\n",
      "    Stream #0:0(und): Video: h264 (High) (avc1 / 0x31637661), yuv420p, 864x360 [SAR 1:1 DAR 12:5], 1885 kb/s, 24 fps, 24 tbr, 12288 tbn, 48 tbc (default)\r\n",
      "    Metadata:\r\n",
      "      handler_name    : VideoHandler\r\n",
      "    Stream #0:1(und): Audio: aac (LC) (mp4a / 0x6134706D), 48000 Hz, stereo, fltp, 128 kb/s (default)\r\n",
      "    Metadata:\r\n",
      "      handler_name    : SoundHandler\r\n"
     ]
    }
   ],
   "source": [
    "# Print input video information.\n",
    "!ffprobe input.mp4"
   ]
  },
  {
   "cell_type": "code",
   "execution_count": 141,
   "metadata": {},
   "outputs": [
    {
     "name": "stdout",
     "output_type": "stream",
     "text": [
      "Done!\n",
      "Input #0, mov,mp4,m4a,3gp,3g2,mj2, from 'output.mp4':\n",
      "  Metadata:\n",
      "    major_brand     : isom\n",
      "    minor_version   : 512\n",
      "    compatible_brands: isomiso2avc1mp41\n",
      "    encoder         : Lavf58.29.100\n",
      "  Duration: 00:00:10.03, start: 0.000000, bitrate: 336 kb/s\n",
      "    Stream #0:0(und): Video: h264 (High) (avc1 / 0x31637661), yuv420p, 864x360 [SAR 1:1 DAR 12:5], 199 kb/s, 24 fps, 24 tbr, 12288 tbn, 48 tbc (default)\n",
      "    Metadata:\n",
      "      handler_name    : VideoHandler\n",
      "    Stream #0:1(und): Audio: aac (LC) (mp4a / 0x6134706D), 48000 Hz, stereo, fltp, 128 kb/s (default)\n",
      "    Metadata:\n",
      "      handler_name    : SoundHandler\n"
     ]
    }
   ],
   "source": [
    "# Compress input.mp4 to a target bitrate and save as output.mp4.\n",
    "!ffmpeg -v error -hide_banner -i input.mp4 -b:v 200k -y output.mp4\n",
    "\n",
    "!echo \"Done!\"\n",
    "!ffprobe -hide_banner output.mp4"
   ]
  },
  {
   "cell_type": "code",
   "execution_count": 142,
   "metadata": {},
   "outputs": [
    {
     "data": {
      "text/html": [
       "<style>\n",
       ".controls {\n",
       "    margin: 0;\n",
       "    position: absolute;\n",
       "    top: 50%;\n",
       "    left: 100%;\n",
       "    -ms-transform: translate(-100%, -50%);\n",
       "    transform: translate(-100%, -50%);\n",
       "}\n",
       "button {\n",
       "    display: block;\n",
       "    padding: 5px 16px;\n",
       "    border-radius: 3px;\n",
       "    cursor: pointer;\n",
       "    background-color: white;\n",
       "    border-color: navy;\n",
       "    width: 100px;\n",
       "}\n",
       "</style>\n",
       "\n",
       "<div>\n",
       "<video muted loop id='video-ref'>\n",
       "  <source src=\"input.mp4\" type=\"video/mp4\">\n",
       "</video>\n",
       "</div>\n",
       "<div class='controls'>\n",
       "  <button id='button-play'>Pause</button>\n",
       "  <button id='button-sync'>Sync</button>\n",
       "</div>\n",
       "<div>\n",
       "<video muted loop id='video-target'>\n",
       "  <source src=\"output.mp4\" type=\"video/mp4\">\n",
       "</video>\n",
       "</div>\n",
       "\n",
       "<script>\n",
       "    var v1 = document.querySelector('#video-ref');\n",
       "    var v2 = document.querySelector('#video-target');\n",
       "    function seek(sec) {\n",
       "      v1.currentTime = sec;\n",
       "      v2.currentTime = sec;\n",
       "    }\n",
       "    document.querySelector('#button-sync').addEventListener('click', (e)=>{\n",
       "        seek(v1.currentTime);\n",
       "    });\n",
       "    document.querySelector('#button-play').addEventListener('click', (e)=>{\n",
       "        if (e.target.textContent == 'Pause') {\n",
       "            e.target.textContent = 'Resume';\n",
       "            v1.pause();\n",
       "            v2.pause();\n",
       "        } else {\n",
       "            e.target.textContent = 'Pause';\n",
       "            v1.play();\n",
       "            v2.play();\n",
       "        }\n",
       "    });\n",
       "    v1.play();\n",
       "    v2.play();\n",
       "</script>\n"
      ],
      "text/plain": [
       "<IPython.core.display.HTML object>"
      ]
     },
     "metadata": {},
     "output_type": "display_data"
    }
   ],
   "source": [
    "%%HTML\n",
    "<style>\n",
    ".controls {\n",
    "    margin: 0;\n",
    "    position: absolute;\n",
    "    top: 50%;\n",
    "    left: 100%;\n",
    "    -ms-transform: translate(-100%, -50%);\n",
    "    transform: translate(-100%, -50%);\n",
    "}\n",
    "button {\n",
    "    display: block;\n",
    "    padding: 5px 16px;\n",
    "    border-radius: 3px;\n",
    "    cursor: pointer;\n",
    "    background-color: white;\n",
    "    border-color: navy;\n",
    "    width: 100px;\n",
    "}\n",
    "</style>\n",
    "\n",
    "<div>\n",
    "<video muted loop id='video-ref'>\n",
    "  <source src=\"input.mp4\" type=\"video/mp4\">\n",
    "</video>\n",
    "</div>\n",
    "<div class='controls'>\n",
    "  <button id='button-play'>Pause</button>\n",
    "  <button id='button-sync'>Sync</button>\n",
    "</div>\n",
    "<div>\n",
    "<video muted loop id='video-target'>\n",
    "  <source src=\"output.mp4\" type=\"video/mp4\">\n",
    "</video>\n",
    "</div>\n",
    "\n",
    "<script>\n",
    "    var v1 = document.querySelector('#video-ref');\n",
    "    var v2 = document.querySelector('#video-target');\n",
    "    function seek(sec) {\n",
    "      v1.currentTime = sec;\n",
    "      v2.currentTime = sec;\n",
    "    }\n",
    "    document.querySelector('#button-sync').addEventListener('click', (e)=>{\n",
    "        seek(v1.currentTime);\n",
    "    });\n",
    "    document.querySelector('#button-play').addEventListener('click', (e)=>{\n",
    "        if (e.target.textContent == 'Pause') {\n",
    "            e.target.textContent = 'Resume';\n",
    "            v1.pause();\n",
    "            v2.pause();\n",
    "        } else {\n",
    "            e.target.textContent = 'Pause';\n",
    "            v1.play();\n",
    "            v2.play();\n",
    "        }\n",
    "    });\n",
    "    v1.play();\n",
    "    v2.play();\n",
    "</script>"
   ]
  },
  {
   "cell_type": "code",
   "execution_count": 63,
   "metadata": {},
   "outputs": [
    {
     "name": "stdout",
     "output_type": "stream",
     "text": [
      "[Parsed_psnr_0 @ 0x7fe687300000] PSNR y:37.703392 u:43.086029 v:44.834119 average:38.969055 min:35.548223 max:44.102711\n",
      "[Parsed_ssim_0 @ 0x7fb0fa101240] SSIM Y:0.969585 (15.169104) U:0.965682 (14.644802) V:0.975562 (16.119315) All:0.969931 (15.218755)\n"
     ]
    }
   ],
   "source": [
    "# Calculate PSNR between input.mp4 and output.mp4\n",
    "!ffmpeg -hide_banner -i output.mp4 -i input.mp4 -lavfi psnr -f null - 2>&1 | grep \"Parsed_psnr_0\"\n",
    "\n",
    "# Calculate SSIM between input.mp4 and output.mp4\n",
    "!ffmpeg -hide_banner -i output.mp4 -i input.mp4 -lavfi ssim -f null - 2>&1 | grep \"Parsed_ssim_0\"\n",
    "\n",
    "# Calculate VMAF between input.mp4 (ref) and output.mp4 (target).\n",
    "\n",
    "!ffmpeg -hide_banner -i output.mp4 -i input.mp4 \\\n",
    "  -lavfi \"libvmaf=model_path=ffmpeg-4.2.2-amd64-static/model/vmaf_v0.6.1.pkl\" -f null - 2>&1 | grep \"VMAF\""
   ]
  }
 ],
 "metadata": {
  "kernelspec": {
   "display_name": "Python 3",
   "language": "python",
   "name": "python3"
  },
  "language_info": {
   "codemirror_mode": {
    "name": "ipython",
    "version": 3
   },
   "file_extension": ".py",
   "mimetype": "text/x-python",
   "name": "python",
   "nbconvert_exporter": "python",
   "pygments_lexer": "ipython3",
   "version": "3.7.7"
  }
 },
 "nbformat": 4,
 "nbformat_minor": 4
}

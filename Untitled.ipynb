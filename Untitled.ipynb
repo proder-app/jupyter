{
 "cells": [
  {
   "cell_type": "code",
   "execution_count": 1,
   "metadata": {},
   "outputs": [
    {
     "data": {
      "text/html": [
       "<div>\n",
       "    <button id='button-record'>Start Recording</button>\n",
       "    <button id='button-download' disabled>Download Recording</button>\n",
       "</div>\n",
       "\n",
       "<video muted autoplay loop controls style='visibility:hidden' id='player'></video>\n",
       "<script src=\"https://www.WebRTC-Experiment.com/RecordRTC.js\"></script>\n",
       "<script>\n",
       "    let dlbutton = document.querySelector('#button-download');\n",
       "    dlbutton.addEventListener('click', (e)=>{\n",
       "        let a = document.createElement('a');\n",
       "        a.href = v.src;\n",
       "        a.download = 'recording.webm';\n",
       "        a.click();\n",
       "    });\n",
       "    document.querySelector('#button-record').addEventListener('click', (e)=>{\n",
       "        navigator.mediaDevices.getUserMedia({\n",
       "            video: true,\n",
       "            audio: true\n",
       "        }).then(async function(stream) {\n",
       "            document.querySelector('#button-record').disabled = true;\n",
       "            let v = document.querySelector('#player');\n",
       "            \n",
       "            v.srcObject = stream;\n",
       "            v.style.visibility = 'visible';\n",
       "            \n",
       "            let recorder = RecordRTC(stream, {\n",
       "                type: 'video',\n",
       "                video: v\n",
       "            });\n",
       "            recorder.startRecording();\n",
       "\n",
       "            const sleep = m => new Promise(r => setTimeout(r, m));\n",
       "            await sleep(3000);\n",
       "\n",
       "            recorder.stopRecording(function() {\n",
       "                v.src = v.srcObject = null;\n",
       "                v.muted = false;\n",
       "                let blob = recorder.getBlob();\n",
       "                v.src = URL.createObjectURL(blob);\n",
       "    \n",
       "                dlbutton.disabled = false;\n",
       "                \n",
       "                stream.stop();\n",
       "                recorder.destroy();\n",
       "                recorder = null;\n",
       "            });\n",
       "        });\n",
       "    });\n",
       "</script>\n"
      ],
      "text/plain": [
       "<IPython.core.display.HTML object>"
      ]
     },
     "metadata": {},
     "output_type": "display_data"
    }
   ],
   "source": [
    "%run capture-camera-video.ipynb"
   ]
  }
 ],
 "metadata": {
  "kernelspec": {
   "display_name": "Python 3",
   "language": "python",
   "name": "python3"
  },
  "language_info": {
   "codemirror_mode": {
    "name": "ipython",
    "version": 3
   },
   "file_extension": ".py",
   "mimetype": "text/x-python",
   "name": "python",
   "nbconvert_exporter": "python",
   "pygments_lexer": "ipython3",
   "version": "3.7.7"
  }
 },
 "nbformat": 4,
 "nbformat_minor": 4
}
